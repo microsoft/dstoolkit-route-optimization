{
 "cells": [
  {
   "cell_type": "markdown",
   "metadata": {},
   "source": [
    "# 0.0 Create Azure resources\n",
    "\n",
    "## 0.0.1 Create Azure ML workspace with Azure portal\n",
    "\n",
    "If you don't have Microsoft Azure resource, please create it from from [this page](https://azure.microsoft.com/en-us/free/).\n",
    "\n",
    "Once the resource is prepared, create Azure ML Workspace with the [following instruction](https://docs.microsoft.com/en-us/azure/machine-learning/how-to-manage-workspace?tabs=azure-portal). During the instruction, please note the following variables, which will be used in actual scenario:\n",
    "\n",
    "- `subscription`\n",
    "- `resource group`\n",
    "- `region`\n",
    "- `workspace name`\n",
    "- `storage account`"
   ]
  },
  {
   "cell_type": "markdown",
   "metadata": {},
   "source": [
    "## 0.0.2 Authentication\n",
    "\n",
    "We adopted `CLI` and `managed identity` for AML workspace authentication. Especially, managed identity is used for computer cluster in Azure ML. Visit the site, if you're interested in authentication mechanism in Azure ML."
   ]
  },
  {
   "cell_type": "markdown",
   "metadata": {},
   "source": [
    "# 0.1 Set variables in local `.env` file\n",
    "\n",
    "We noted plural variables like subscription in the previous section, and we put them into `.env` file for preparing our succeeding process. Please put the following format and locate it in top directory as local `.env` file.\n",
    "\n",
    "```sh\n",
    ".env\n",
    "SUBSCRIPTION_ID=AAA\n",
    "RESOURCE_GROUP=BBB\n",
    "REGION=CCC\n",
    "AML_TENANT_ID=DDD\n",
    "AML_MIN_NODES=EEE\n",
    "AML_MAX_NODES=FFF\n",
    "  :\n",
    "```\n",
    "\n",
    "Note. `AAA`, `BBB`, .. are dummy values, and please modify them with your values. Necessary variables are as follows:\n",
    "\n",
    "| variables in .env | description                                          |\n",
    "--------------------|------------------------------------------------------- \n",
    "| SUBSCRIPTION_ID   | Subscription ID related to Azure account             |\n",
    "| RESOURCE_GROUP    | Resource group name                                  |\n",
    "| REGION            | Region of Azure resources                            |\n",
    "| AML_TENANT_ID     | Tenant ID of Azure account                           |\n",
    "| AML_MIN_NODES     | Minimum node number in submitting experiments in AML |\n",
    "| AML_MAX_NODES     | Maximum node number in submitting experiments in AML |\n",
    "| MODEL_INPUT_PATH  | Path of generated models                             |"
   ]
  },
  {
   "cell_type": "markdown",
   "metadata": {},
   "source": [
    "# 0.2 Python environment\n",
    "\n",
    "## 0.2.1 Azure ML Compute\n",
    "Please create [Azure ML Compute instance](https://docs.microsoft.com/en-us/azure/machine-learning/concept-compute-instance#create) with your favorite name, where we execute this script.\n",
    "\n",
    "## 0.2.2 Library install\n",
    "Please install necessary libraries as follows:"
   ]
  },
  {
   "cell_type": "code",
   "execution_count": null,
   "metadata": {},
   "outputs": [],
   "source": [
    "!pip install -r ../notebook/requirements.txt"
   ]
  },
  {
   "cell_type": "markdown",
   "metadata": {},
   "source": [
    "# 0.3 Confirm our environment variables\n",
    "\n",
    "Please check your environment variables with the following cell."
   ]
  },
  {
   "cell_type": "code",
   "execution_count": null,
   "metadata": {},
   "outputs": [],
   "source": [
    "import os\n",
    "from dotenv import load_dotenv, find_dotenv\n",
    "\n",
    "load_dotenv(find_dotenv('../.env'))\n",
    "\n",
    "ws_name = os.environ['AML_WORKSPACE_NAME']\n",
    "subscription_id = os.environ['AML_SUBSCRIPTION_ID']\n",
    "resource_group = os.environ['AML_RESOURCE_GROUP']\n",
    "tenant_id = os.environ['AML_TENANT_ID']\n",
    "min_nodes = int(os.environ['AML_MIN_NODES'])\n",
    "max_nodes = int(os.environ['AML_MAX_NODES'])\n",
    "\n",
    "aml_compute_target = os.environ['AML_COMPUTE_NAME']\n",
    "\n",
    "print('---- Check Azure setting ----')\n",
    "print(f'AML Workspace name       : {ws_name}')\n",
    "print(f'Subscription ID          : {subscription_id}')\n",
    "print(f'Resource group           : {resource_group}')\n",
    "print(f'tenant id                : {tenant_id}')\n",
    "print(f'min nodes of AML compute : {min_nodes}')\n",
    "print(f'max nodes of AML compute : {max_nodes}')\n",
    "print(f'AML compute target       : {aml_compute_target}')"
   ]
  },
  {
   "cell_type": "markdown",
   "metadata": {},
   "source": [
    "## 0.4 Azure ML Configuration\n",
    "\n",
    "We adopt Azure CLI authentication in this repository for simplicity. Please modify it as your preference using managed identity or service principal explained [here](https://docs.microsoft.com/en-us/azure/machine-learning/how-to-setup-authentication?tabs=sdk)."
   ]
  },
  {
   "cell_type": "code",
   "execution_count": null,
   "metadata": {},
   "outputs": [],
   "source": [
    "#!az login\n",
    "!az login --use-device-code"
   ]
  },
  {
   "cell_type": "code",
   "execution_count": null,
   "metadata": {},
   "outputs": [],
   "source": [
    "from azureml.core.authentication import AzureCliAuthentication\n",
    "from azureml.core import Workspace\n",
    "\n",
    "cli_auth = AzureCliAuthentication()\n",
    "ws =  Workspace.get(name=ws_name\n",
    "                    ,subscription_id=subscription_id\n",
    "                    ,resource_group=resource_group\n",
    "                    ,auth=cli_auth)"
   ]
  }
 ],
 "metadata": {
  "kernelspec": {
   "display_name": "Python 3.8 - AzureML",
   "language": "python",
   "name": "python38-azureml"
  },
  "language_info": {
   "codemirror_mode": {
    "name": "ipython",
    "version": 3
   },
   "file_extension": ".py",
   "mimetype": "text/x-python",
   "name": "python",
   "nbconvert_exporter": "python",
   "pygments_lexer": "ipython3",
   "version": "3.8.13"
  },
  "orig_nbformat": 4,
  "vscode": {
   "interpreter": {
    "hash": "916dbcbb3f70747c44a77c7bcd40155683ae19c65e1c03b4aa3499c5328201f1"
   }
  }
 },
 "nbformat": 4,
 "nbformat_minor": 2
}
